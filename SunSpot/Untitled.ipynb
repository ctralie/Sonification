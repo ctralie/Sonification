{
 "cells": [
  {
   "cell_type": "code",
   "execution_count": null,
   "metadata": {},
   "outputs": [],
   "source": [
    "import numpy as np\n",
    "import IPython.display as ipd\n",
    "import matplotlib.pyplot as plt\n",
    "from scipy.signal import fftconvolve, decimate\n",
    "from scipy import interpolate\n",
    "from sklearn.decomposition import PCA\n",
    "import sys\n",
    "import time\n",
    "sys.path.append(\"..\")\n",
    "from SlidingWindow import *\n",
    "from CurvatureTools import *\n",
    "from Sunspot import *\n",
    "%matplotlib notebook"
   ]
  },
  {
   "cell_type": "code",
   "execution_count": null,
   "metadata": {},
   "outputs": [],
   "source": [
    "A = extractData()\n",
    "fac = 10\n",
    "N = len(A)\n",
    "x = np.linspace(0, 1, N)\n",
    "f = interpolate.interp1d(x,A,kind='cubic')\n",
    "xnew = np.linspace(0, 1, int(fac*N))**4\n",
    "B = f(xnew)\n",
    "plt.figure(figsize=(10, 6))\n",
    "plt.subplot(311)\n",
    "plt.plot(A)\n",
    "plt.subplot(312)\n",
    "plt.plot(xnew)\n",
    "plt.subplot(313)\n",
    "plt.plot(B)"
   ]
  }
 ],
 "metadata": {
  "kernelspec": {
   "display_name": "Python 3",
   "language": "python",
   "name": "python3"
  },
  "language_info": {
   "codemirror_mode": {
    "name": "ipython",
    "version": 3
   },
   "file_extension": ".py",
   "mimetype": "text/x-python",
   "name": "python",
   "nbconvert_exporter": "python",
   "pygments_lexer": "ipython3",
   "version": "3.7.6"
  }
 },
 "nbformat": 4,
 "nbformat_minor": 4
}
