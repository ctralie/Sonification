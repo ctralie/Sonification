{
 "cells": [
  {
   "cell_type": "code",
   "execution_count": 13,
   "metadata": {},
   "outputs": [],
   "source": [
    "%matplotlib qt\n",
    "import numpy as np\n",
    "import matplotlib.pyplot as plt\n",
    "import sys\n",
    "sys.path.append(\"..\")\n",
    "sys.path.append('../Viterbi')\n",
    "from CurvatureTools import *\n",
    "from SyntheticCurves import *\n",
    "from Viterbi import getCSM"
   ]
  },
  {
   "cell_type": "code",
   "execution_count": 25,
   "metadata": {},
   "outputs": [],
   "source": [
    "t = np.linspace(0, 1, 1000)\n",
    "X = get2DFigure8(t)\n",
    "earcon = np.array([0.5, 0.5])\n",
    "dists = getCSM(X, earcon[None, :]).flatten()\n",
    "\n",
    "V = getCurvVectors(X, 1, 5, loop=True)[1]\n",
    "\n",
    "VMag = np.sqrt(np.sum(V**2, axis=1))\n",
    "\n",
    "\n",
    "plt.figure(figsize=(6, 6))\n",
    "plt.subplot(221)\n",
    "plt.scatter(X[:, 0], X[:, 1], c=t)\n",
    "plt.scatter([earcon[0]], [earcon[1]], c='C2')\n",
    "plt.title(\"Curve\")\n",
    "\n",
    "plt.subplot(222)\n",
    "plt.scatter(t, dists, c=t)\n",
    "plt.title(\"Distance to earcon\")\n",
    "\n",
    "\n",
    "plt.subplot(223)\n",
    "V = V*(1+0.3*t[:, None])\n",
    "plt.scatter(V[:, 0], V[:, 1], c=t)\n",
    "plt.scatter([0], [0], c='C1')\n",
    "plt.plot([-0.02, 0.02], [0, 0], c='C1')\n",
    "plt.plot([0, 0], [-0.03, 0.03], c='C1')\n",
    "plt.title(\"Velocity\")\n",
    "\n",
    "plt.subplot(224)\n",
    "plt.scatter(t, VMag, c=t)\n",
    "plt.title(\"Speed\")\n",
    "\n",
    "plt.show()\n"
   ]
  },
  {
   "cell_type": "code",
   "execution_count": null,
   "metadata": {},
   "outputs": [],
   "source": []
  }
 ],
 "metadata": {
  "kernelspec": {
   "display_name": "Python 3",
   "language": "python",
   "name": "python3"
  },
  "language_info": {
   "codemirror_mode": {
    "name": "ipython",
    "version": 3
   },
   "file_extension": ".py",
   "mimetype": "text/x-python",
   "name": "python",
   "nbconvert_exporter": "python",
   "pygments_lexer": "ipython3",
   "version": "3.7.6"
  }
 },
 "nbformat": 4,
 "nbformat_minor": 4
}
