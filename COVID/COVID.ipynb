{
 "cells": [
  {
   "cell_type": "code",
   "execution_count": 1,
   "metadata": {},
   "outputs": [],
   "source": [
    "import numpy as np\n",
    "import pandas as pd\n",
    "import matplotlib.pyplot as plt\n",
    "import IPython.display as ipd\n",
    "from scipy import interpolate\n",
    "from COVID import *\n",
    "import sys\n",
    "sys.path.append(\"..\")\n",
    "sys.path.append('../Viterbi')\n",
    "from SlidingWindow import *\n",
    "from Viterbi import getCSM"
   ]
  },
  {
   "cell_type": "code",
   "execution_count": 2,
   "metadata": {},
   "outputs": [
    {
     "ename": "TypeError",
     "evalue": "unsupported operand type(s) for ** or pow(): 'list' and 'int'",
     "output_type": "error",
     "traceback": [
      "\u001b[0;31m---------------------------------------------------------------------------\u001b[0m",
      "\u001b[0;31mTypeError\u001b[0m                                 Traceback (most recent call last)",
      "\u001b[0;32m<ipython-input-2-7c8b86d85da4>\u001b[0m in \u001b[0;36m<module>\u001b[0;34m\u001b[0m\n\u001b[1;32m     32\u001b[0m \u001b[0;34m\u001b[0m\u001b[0m\n\u001b[1;32m     33\u001b[0m \u001b[0mmodamp\u001b[0m \u001b[0;34m=\u001b[0m \u001b[0;36m1\u001b[0m\u001b[0;34m\u001b[0m\u001b[0;34m\u001b[0m\u001b[0m\n\u001b[0;32m---> 34\u001b[0;31m \u001b[0mUSAudio\u001b[0m \u001b[0;34m=\u001b[0m \u001b[0mcreate_audio\u001b[0m\u001b[0;34m(\u001b[0m\u001b[0mUSShape\u001b[0m\u001b[0;34m,\u001b[0m\u001b[0mUSEarcons\u001b[0m\u001b[0;34m,\u001b[0m\u001b[0mChords\u001b[0m\u001b[0;34m,\u001b[0m\u001b[0mmodamp\u001b[0m\u001b[0;34m)\u001b[0m\u001b[0;34m\u001b[0m\u001b[0;34m\u001b[0m\u001b[0m\n\u001b[0m\u001b[1;32m     35\u001b[0m \u001b[0mITAudio\u001b[0m \u001b[0;34m=\u001b[0m \u001b[0mcreate_audio\u001b[0m\u001b[0;34m(\u001b[0m\u001b[0mITShape\u001b[0m\u001b[0;34m,\u001b[0m\u001b[0mITEarcons\u001b[0m\u001b[0;34m,\u001b[0m\u001b[0mChords\u001b[0m\u001b[0;34m,\u001b[0m\u001b[0mmodamp\u001b[0m\u001b[0;34m)\u001b[0m\u001b[0;34m\u001b[0m\u001b[0;34m\u001b[0m\u001b[0m\n",
      "\u001b[0;32m~/Documents/GitHub/Sonification/COVID/COVID.py\u001b[0m in \u001b[0;36mcreate_audio\u001b[0;34m(Data, Earcons, Chords, modamp)\u001b[0m\n\u001b[1;32m    204\u001b[0m     \u001b[0mAudio\u001b[0m \u001b[0;34m=\u001b[0m \u001b[0;36m0\u001b[0m\u001b[0;34m\u001b[0m\u001b[0;34m\u001b[0m\u001b[0m\n\u001b[1;32m    205\u001b[0m     \u001b[0;32mfor\u001b[0m \u001b[0mi\u001b[0m \u001b[0;32min\u001b[0m \u001b[0mrange\u001b[0m\u001b[0;34m(\u001b[0m\u001b[0mlen\u001b[0m\u001b[0;34m(\u001b[0m\u001b[0mEarcons\u001b[0m\u001b[0;34m)\u001b[0m\u001b[0;34m)\u001b[0m\u001b[0;34m:\u001b[0m\u001b[0;34m\u001b[0m\u001b[0;34m\u001b[0m\u001b[0m\n\u001b[0;32m--> 206\u001b[0;31m         \u001b[0mdists\u001b[0m \u001b[0;34m=\u001b[0m \u001b[0mgetCSM\u001b[0m\u001b[0;34m(\u001b[0m\u001b[0mData\u001b[0m\u001b[0;34m,\u001b[0m \u001b[0mEarcons\u001b[0m\u001b[0;34m[\u001b[0m\u001b[0mi\u001b[0m\u001b[0;34m]\u001b[0m\u001b[0;34m)\u001b[0m\u001b[0;34m\u001b[0m\u001b[0;34m\u001b[0m\u001b[0m\n\u001b[0m\u001b[1;32m    207\u001b[0m         \u001b[0mnewaudio\u001b[0m \u001b[0;34m=\u001b[0m \u001b[0mamp_mod_audio\u001b[0m\u001b[0;34m(\u001b[0m\u001b[0mdists\u001b[0m\u001b[0;34m,\u001b[0m\u001b[0mChords\u001b[0m\u001b[0;34m[\u001b[0m\u001b[0;34m:\u001b[0m\u001b[0;34m,\u001b[0m\u001b[0mi\u001b[0m\u001b[0;34m]\u001b[0m\u001b[0;34m,\u001b[0m\u001b[0mmodamp\u001b[0m\u001b[0;34m)\u001b[0m\u001b[0;34m\u001b[0m\u001b[0;34m\u001b[0m\u001b[0m\n\u001b[1;32m    208\u001b[0m \u001b[0;34m\u001b[0m\u001b[0m\n",
      "\u001b[0;32m~/Documents/GitHub/Sonification/Viterbi/Viterbi.py\u001b[0m in \u001b[0;36mgetCSM\u001b[0;34m(X, Y)\u001b[0m\n\u001b[1;32m     34\u001b[0m         \u001b[0mAll\u001b[0m \u001b[0mpairs\u001b[0m \u001b[0mof\u001b[0m \u001b[0mdistances\u001b[0m \u001b[0;32mfrom\u001b[0m \u001b[0mone\u001b[0m \u001b[0mto\u001b[0m \u001b[0mthe\u001b[0m \u001b[0mnext\u001b[0m\u001b[0;34m\u001b[0m\u001b[0;34m\u001b[0m\u001b[0m\n\u001b[1;32m     35\u001b[0m     \"\"\"\n\u001b[0;32m---> 36\u001b[0;31m     \u001b[0mC\u001b[0m \u001b[0;34m=\u001b[0m \u001b[0mnp\u001b[0m\u001b[0;34m.\u001b[0m\u001b[0msum\u001b[0m\u001b[0;34m(\u001b[0m\u001b[0mX\u001b[0m\u001b[0;34m**\u001b[0m\u001b[0;36m2\u001b[0m\u001b[0;34m,\u001b[0m \u001b[0;36m1\u001b[0m\u001b[0;34m)\u001b[0m\u001b[0;34m[\u001b[0m\u001b[0;34m:\u001b[0m\u001b[0;34m,\u001b[0m \u001b[0;32mNone\u001b[0m\u001b[0;34m]\u001b[0m \u001b[0;34m+\u001b[0m \u001b[0mnp\u001b[0m\u001b[0;34m.\u001b[0m\u001b[0msum\u001b[0m\u001b[0;34m(\u001b[0m\u001b[0mY\u001b[0m\u001b[0;34m**\u001b[0m\u001b[0;36m2\u001b[0m\u001b[0;34m,\u001b[0m \u001b[0;36m1\u001b[0m\u001b[0;34m)\u001b[0m\u001b[0;34m[\u001b[0m\u001b[0;32mNone\u001b[0m\u001b[0;34m,\u001b[0m \u001b[0;34m:\u001b[0m\u001b[0;34m]\u001b[0m \u001b[0;34m-\u001b[0m \u001b[0;36m2\u001b[0m\u001b[0;34m*\u001b[0m\u001b[0mX\u001b[0m\u001b[0;34m.\u001b[0m\u001b[0mdot\u001b[0m\u001b[0;34m(\u001b[0m\u001b[0mY\u001b[0m\u001b[0;34m.\u001b[0m\u001b[0mT\u001b[0m\u001b[0;34m)\u001b[0m\u001b[0;34m\u001b[0m\u001b[0;34m\u001b[0m\u001b[0m\n\u001b[0m\u001b[1;32m     37\u001b[0m     \u001b[0mC\u001b[0m\u001b[0;34m[\u001b[0m\u001b[0mC\u001b[0m \u001b[0;34m<\u001b[0m \u001b[0;36m0\u001b[0m\u001b[0;34m]\u001b[0m \u001b[0;34m=\u001b[0m \u001b[0;36m0\u001b[0m\u001b[0;34m\u001b[0m\u001b[0;34m\u001b[0m\u001b[0m\n\u001b[1;32m     38\u001b[0m     \u001b[0;32mreturn\u001b[0m \u001b[0mnp\u001b[0m\u001b[0;34m.\u001b[0m\u001b[0msqrt\u001b[0m\u001b[0;34m(\u001b[0m\u001b[0mC\u001b[0m\u001b[0;34m)\u001b[0m\u001b[0;34m\u001b[0m\u001b[0;34m\u001b[0m\u001b[0m\n",
      "\u001b[0;31mTypeError\u001b[0m: unsupported operand type(s) for ** or pow(): 'list' and 'int'"
     ]
    }
   ],
   "source": [
    "#covid data from january 20th to july 10th 2020\n",
    "UScode = \"US\"\n",
    "ITcode = \"IT\"\n",
    "USData = get_data(UScode)\n",
    "ITData = get_data(ITcode)\n",
    "\n",
    "#get deaths and cases from each country\n",
    "USC,USD = get_info(USData)\n",
    "ITC,ITD = get_info(ITData)\n",
    "\n",
    "#interpolate\n",
    "fs = 44100\n",
    "seconds = 10\n",
    "DesiredAudioFrame = np.linspace(0, seconds, int(fs*seconds))\n",
    "IUSC,IUSD,IITC,IITD = get_interp(USC,USD,ITC,ITD,DesiredAudioFrame)\n",
    "\n",
    "USShape = create_2D_shape(IUSC,IUSD)\n",
    "ITShape = create_2D_shape(IITC,IITD)\n",
    "\n",
    "USShape = scale_data(USShape)\n",
    "ITShape = scale_data(ITShape)\n",
    "\n",
    "uscmax,usdmax = get_country_max(USShape)\n",
    "itcmax,itdmax = get_country_max(ITShape)\n",
    "\n",
    "Types = [\"MajorW\",\"Major7\",\"Major\",\"Minor7\",\"Dim\",\"Aug\",\"Minor\",\"FullyDim\",\"Tri\"]\n",
    "freq = 440\n",
    "Chords = make_chord_arrays(seconds,Types,freq)\n",
    "\n",
    "USEarcons = create_earcons(uscmax,usdmax)\n",
    "ITEarcons = create_earcons(itcmax,itdmax)\n",
    "\n",
    "modamp = 1\n",
    "USAudio = create_audio(USShape,USEarcons,Chords,modamp)\n",
    "ITAudio = create_audio(ITShape,ITEarcons,Chords,modamp)\n"
   ]
  },
  {
   "cell_type": "code",
   "execution_count": null,
   "metadata": {},
   "outputs": [],
   "source": [
    "ipd.Audio(TTA, rate=fs)"
   ]
  },
  {
   "cell_type": "code",
   "execution_count": null,
   "metadata": {},
   "outputs": [],
   "source": [
    "ipd.Audio(ITAudio, rate=fs)"
   ]
  },
  {
   "cell_type": "code",
   "execution_count": null,
   "metadata": {},
   "outputs": [],
   "source": [
    "plt.figure()\n",
    "\"\"\"\n",
    "plt.plot(UMAJS)\n",
    "plt.plot(UMAJ)\n",
    "plt.plot(UMIN)\n",
    "plt.plot(UMINS)\n",
    "plt.plot(UFDIM)\n",
    "plt.plot(UDIM)\n",
    "plt.plot(UTRI)\n",
    "\"\"\"\n",
    "\n",
    "plt.scatter(USShape[:, 0], USShape[:, 1])\n",
    "plt.scatter(UMAJS[:, 0], UMAJS[:, 1])\n",
    "plt.scatter(UMAJ[:, 0], UMAJ[:, 1])\n",
    "plt.scatter(UMIN[:, 0], UMIN[:, 1])\n",
    "plt.scatter(UMINS[:, 0], UMINS[:, 1])\n",
    "plt.scatter(UFDIM[:, 0], UFDIM[:, 1])\n",
    "plt.scatter(UDIM[:, 0], UDIM[:, 1])\n",
    "plt.scatter(UTRI[:, 0], UTRI[:, 1])\n",
    "\n",
    "plt.savefig(\"grid.png\")"
   ]
  },
  {
   "cell_type": "code",
   "execution_count": null,
   "metadata": {},
   "outputs": [],
   "source": [
    "\"\"\"\n",
    "USPop = 329064917\n",
    "ITPop = 60550075\n",
    "\n",
    "IUSC = IUSC/USPop\n",
    "IUSD = IUSD/USPop\n",
    "IITC = IITC/ITPop\n",
    "IITD = IITD/ITPop\n",
    "\"\"\"\n",
    "\n",
    "plt.figure(figsize=(12, 12))\n",
    "plt.scatter(USShape[:, 0], USShape[:, 1], c = DesiredAudioFrame)\n",
    "plt.xlabel(\"New Cases Per Day (% of Pop)\")\n",
    "plt.ylabel(\"New Deaths Per Day (% of Pop)\")\n",
    "plt.title(\"United States\")\n",
    "plt.xlim(0,uscmax)\n",
    "plt.ylim(0,usdmax)\n",
    "plt.show()\n",
    "plt.figure(figsize=(12, 12))\n",
    "plt.scatter(ITShape[:, 0], ITShape[:, 1], c = DesiredAudioFrame)\n",
    "plt.xlabel(\"New Cases Per Day (% of Pop)\")\n",
    "plt.ylabel(\"New Deaths Per Day (% of Pop)\")\n",
    "plt.title(\"Italy\")\n",
    "plt.xlim(0,itcmax)\n",
    "plt.ylim(0,itdmax)\n",
    "plt.show()    "
   ]
  },
  {
   "cell_type": "markdown",
   "metadata": {},
   "source": [
    "    We could have one line which is y = max deaths per day, and one line which is x = max new cases per day\n",
    "\n",
    "    since these lines are axis-aligned, the distance between a point (a, b) and a line x = k is simply |a - k|, and the distance to a line y = L is simply |b - L|\n",
    "\n",
    "    So definitely still try your idea with these chords\n",
    "\n",
    "    But I'd also like to hear a version where you come up with one earcon for deaths and put it to that horizontal line y = max deaths per day, and you have a different earcon for infections and put that on the vertical line x = max infections per day\n"
   ]
  },
  {
   "cell_type": "code",
   "execution_count": null,
   "metadata": {},
   "outputs": [],
   "source": [
    "#https://www.worldometers.info/world-population/us-population/\n",
    "#329,064,917 US\n",
    "#https://www.macrotrends.net/countries/ITA/italy/population-growth-rate#:~:text=The%20current%20population%20of%20Italy,a%200.02%25%20increase%20from%202016.\n",
    "#60,550,075 italy"
   ]
  },
  {
   "cell_type": "code",
   "execution_count": null,
   "metadata": {},
   "outputs": [],
   "source": [
    "plt.figure(figsize=(16, 16))\n",
    "plt.subplot(411)\n",
    "plt.plot(USC)\n",
    "plt.ylabel(\"Cases Per Day\")\n",
    "plt.xlabel(\"Days\")\n",
    "plt.title(\"New Cases\")\n",
    "plt.subplot(412)\n",
    "plt.plot(IUSC)\n",
    "plt.ylabel(\"Cases Per Day\")\n",
    "plt.xlabel(\"Days\")\n",
    "plt.title(\"New Cases\")\n",
    "plt.subplot(413)\n",
    "plt.plot(USD)\n",
    "plt.ylabel(\"Deaths Per Day\")\n",
    "plt.xlabel(\"Days\")\n",
    "plt.title(\"New Deaths\")\n",
    "plt.subplot(414)\n",
    "plt.plot(IUSD)\n",
    "plt.ylabel(\"Deaths Per Day\")\n",
    "plt.xlabel(\"Days\")\n",
    "plt.title(\"New Deaths\")\n",
    "plt.tight_layout()\n",
    "\n",
    "plt.figure(figsize=(16, 16))\n",
    "plt.subplot(411)\n",
    "plt.plot(ITC)\n",
    "plt.ylabel(\"Cases Per Day\")\n",
    "plt.xlabel(\"Days\")\n",
    "plt.title(\"New Cases\")\n",
    "plt.subplot(412)\n",
    "plt.plot(IITC)\n",
    "plt.ylabel(\"Cases Per Day\")\n",
    "plt.xlabel(\"Days\")\n",
    "plt.title(\"New Cases\")\n",
    "plt.subplot(413)\n",
    "plt.plot(ITD)\n",
    "plt.ylabel(\"Deaths Per Day\")\n",
    "plt.xlabel(\"Days\")\n",
    "plt.title(\"New Deaths\")\n",
    "plt.subplot(414)\n",
    "plt.plot(IITD)\n",
    "plt.ylabel(\"Deaths Per Day\")\n",
    "plt.xlabel(\"Days\")\n",
    "plt.title(\"New Deaths\")\n",
    "plt.tight_layout()"
   ]
  },
  {
   "cell_type": "code",
   "execution_count": null,
   "metadata": {},
   "outputs": [],
   "source": []
  }
 ],
 "metadata": {
  "kernelspec": {
   "display_name": "Python 3",
   "language": "python",
   "name": "python3"
  },
  "language_info": {
   "codemirror_mode": {
    "name": "ipython",
    "version": 3
   },
   "file_extension": ".py",
   "mimetype": "text/x-python",
   "name": "python",
   "nbconvert_exporter": "python",
   "pygments_lexer": "ipython3",
   "version": "3.7.6"
  }
 },
 "nbformat": 4,
 "nbformat_minor": 4
}
